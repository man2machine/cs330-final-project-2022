{
 "cells": [
  {
   "cell_type": "code",
   "execution_count": 1,
   "metadata": {},
   "outputs": [],
   "source": [
    "import numpy as np\n",
    "from sklearn.model_selection import train_test_split\n",
    "\n",
    "from cs330_project.datasets import RawDataset\n",
    "\n",
    "rng = np.random.default_rng()\n",
    "img_size = 32\n",
    "n_classes = 10\n",
    "n, c, t, h, w = 20, 3, 10, img_size, img_size\n",
    "x_data = rng.random((n, c, t, h, w), dtype=np.float32)\n",
    "y_data = rng.integers(0, n_classes, n, dtype=np.int32)\n",
    "x_train, x_test, y_train, y_test = train_test_split(x_data, y_data, test_size=0.20)\n",
    "dataset_train = RawDataset(x_train, y_train)\n",
    "dataset_test = RawDataset(x_test, y_test)"
   ]
  },
  {
   "cell_type": "code",
   "execution_count": 2,
   "metadata": {},
   "outputs": [],
   "source": [
    "from cs330_project.models import ViTAutoEncoder\n",
    "\n",
    "model = ViTAutoEncoder(\n",
    "    in_img_size=32,\n",
    "    in_channels=3,\n",
    "    patch_size=4,\n",
    "    spatio_temporal=True,\n",
    "    tubelet_size=2,\n",
    "    in_num_frames=10,\n",
    "    encoder_embed_dim=192,\n",
    "    encoder_depth=9,\n",
    "    encoder_num_heads=12,\n",
    "    decoder_embed_dim=96,\n",
    "    decoder_depth=3,\n",
    "    decoder_num_heads=16,\n",
    "    mlp_dim_ratio=2,\n",
    "    head_dim=192 // 12,\n",
    "    is_spt=False,\n",
    "    is_lsa=False)"
   ]
  },
  {
   "cell_type": "code",
   "execution_count": 3,
   "metadata": {},
   "outputs": [],
   "source": [
    "from cs330_project.training import train_one_epoch, make_optimizer\n",
    "\n",
    "optimizer = make_optimizer(model)\n"
   ]
  },
  {
   "cell_type": "code",
   "execution_count": 4,
   "metadata": {},
   "outputs": [],
   "source": [
    "import torch\n",
    "device = torch.device('cuda' if torch.cuda.is_available() else 'cpu')"
   ]
  },
  {
   "cell_type": "code",
   "execution_count": 5,
   "metadata": {},
   "outputs": [],
   "source": [
    "from cs330_project.datasets import DataLoader\n",
    "dataloader_train = DataLoader(\n",
    "    dataset_train,\n",
    "    batch_size=2,\n",
    "    num_workers=0,\n",
    "    pin_memory=False,\n",
    "    drop_last=True)\n"
   ]
  },
  {
   "cell_type": "code",
   "execution_count": 6,
   "metadata": {},
   "outputs": [
    {
     "ename": "ValueError",
     "evalue": "not enough values to unpack (expected 3, got 2)",
     "output_type": "error",
     "traceback": [
      "\u001b[1;31m---------------------------------------------------------------------------\u001b[0m",
      "\u001b[1;31mValueError\u001b[0m                                Traceback (most recent call last)",
      "Cell \u001b[1;32mIn [6], line 1\u001b[0m\n\u001b[1;32m----> 1\u001b[0m train_one_epoch(model, \u001b[39mNone\u001b[39;49;00m, dataloader_train, optimizer, device)\n",
      "File \u001b[1;32m~\\Documents\\Code Repositories\\cs330-final-project-2022\\cs330_project\\training.py:162\u001b[0m, in \u001b[0;36mtrain_one_epoch\u001b[1;34m(model, criterion, dataloader, optimizer, device, grad_accum_steps)\u001b[0m\n\u001b[0;32m    160\u001b[0m \u001b[39mwith\u001b[39;00m torch\u001b[39m.\u001b[39mset_grad_enabled(\u001b[39mTrue\u001b[39;00m):\n\u001b[0;32m    161\u001b[0m     outputs \u001b[39m=\u001b[39m model(samples)\n\u001b[1;32m--> 162\u001b[0m     loss, _, _ \u001b[39m=\u001b[39m outputs\n\u001b[0;32m    163\u001b[0m     \u001b[39m# loss = criterion(outputs, targets)\u001b[39;00m\n\u001b[0;32m    164\u001b[0m     loss \u001b[39m/\u001b[39m\u001b[39m=\u001b[39m grad_accum_steps\n",
      "\u001b[1;31mValueError\u001b[0m: not enough values to unpack (expected 3, got 2)"
     ]
    }
   ],
   "source": [
    "train_one_epoch(model, None, dataloader_train, optimizer, device)"
   ]
  },
  {
   "cell_type": "code",
   "execution_count": null,
   "metadata": {},
   "outputs": [],
   "source": []
  },
  {
   "cell_type": "code",
   "execution_count": null,
   "metadata": {},
   "outputs": [],
   "source": []
  }
 ],
 "metadata": {
  "kernelspec": {
   "display_name": "Python 3.10.8 ('cs330-final-project')",
   "language": "python",
   "name": "python3"
  },
  "language_info": {
   "codemirror_mode": {
    "name": "ipython",
    "version": 3
   },
   "file_extension": ".py",
   "mimetype": "text/x-python",
   "name": "python",
   "nbconvert_exporter": "python",
   "pygments_lexer": "ipython3",
   "version": "3.10.8"
  },
  "orig_nbformat": 4,
  "vscode": {
   "interpreter": {
    "hash": "e83531ffe832af231b72d96521b01eb96431da7f22dd3e704e8115770d7320b0"
   }
  }
 },
 "nbformat": 4,
 "nbformat_minor": 2
}
