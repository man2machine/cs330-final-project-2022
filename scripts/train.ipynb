{
 "cells": [
  {
   "cell_type": "code",
   "execution_count": 1,
   "metadata": {},
   "outputs": [],
   "source": [
    "import numpy as np\n",
    "from sklearn.model_selection import train_test_split\n",
    "\n",
    "from cs330_project.datasets import RawDataset\n",
    "\n",
    "rng = np.random.default_rng()\n",
    "img_size = 32\n",
    "n_classes = 10\n",
    "n, c, t, h, w = 20, 3, 10, img_size, img_size\n",
    "x_data = rng.random((n, c, t, h, w), dtype=np.float32)\n",
    "y_data = rng.integers(0, n_classes, n, dtype=np.int32)\n",
    "x_train, x_test, y_train, y_test = train_test_split(x_data, y_data, test_size=0.20)\n",
    "dataset_train = RawDataset(x_train, y_train)\n",
    "dataset_test = RawDataset(x_test, y_test)"
   ]
  },
  {
   "cell_type": "code",
   "execution_count": 2,
   "metadata": {},
   "outputs": [],
   "source": [
    "from cs330_project.models.small_vit.models.create_model import create_model, ModelType\n",
    "\n",
    "model = create_model(img_size, n_classes, model_type=ModelType.VIT_MASKED_VIDEO_AUTOENCODER)"
   ]
  },
  {
   "cell_type": "code",
   "execution_count": 3,
   "metadata": {},
   "outputs": [],
   "source": [
    "from cs330_project.training import train_one_epoch, make_optimizer\n",
    "\n",
    "optimizer = make_optimizer(model)\n"
   ]
  },
  {
   "cell_type": "code",
   "execution_count": 4,
   "metadata": {},
   "outputs": [],
   "source": [
    "import torch\n",
    "device = torch.device('cuda' if torch.cuda.is_available() else 'cpu')"
   ]
  },
  {
   "cell_type": "code",
   "execution_count": 5,
   "metadata": {},
   "outputs": [],
   "source": [
    "from cs330_project.datasets import DataLoader\n",
    "dataloader_train = DataLoader(\n",
    "    dataset_train,\n",
    "    batch_size=2,\n",
    "    num_workers=0,\n",
    "    pin_memory=False,\n",
    "    drop_last=True)\n"
   ]
  },
  {
   "cell_type": "code",
   "execution_count": 6,
   "metadata": {},
   "outputs": [],
   "source": [
    "train_one_epoch(model, None, dataloader_train, optimizer, device)"
   ]
  },
  {
   "cell_type": "code",
   "execution_count": null,
   "metadata": {},
   "outputs": [],
   "source": []
  }
 ],
 "metadata": {
  "kernelspec": {
   "display_name": "Python 3.10.8 ('cs330-final-project')",
   "language": "python",
   "name": "python3"
  },
  "language_info": {
   "codemirror_mode": {
    "name": "ipython",
    "version": 3
   },
   "file_extension": ".py",
   "mimetype": "text/x-python",
   "name": "python",
   "nbconvert_exporter": "python",
   "pygments_lexer": "ipython3",
   "version": "3.10.8"
  },
  "orig_nbformat": 4,
  "vscode": {
   "interpreter": {
    "hash": "e83531ffe832af231b72d96521b01eb96431da7f22dd3e704e8115770d7320b0"
   }
  }
 },
 "nbformat": 4,
 "nbformat_minor": 2
}
