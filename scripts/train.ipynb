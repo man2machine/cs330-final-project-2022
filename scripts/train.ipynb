{
 "cells": [
  {
   "cell_type": "code",
   "execution_count": 1,
   "metadata": {},
   "outputs": [],
   "source": [
    "import os\n",
    "\n",
    "import torch\n",
    "\n",
    "from cs330_project.datasets.video_data import TinyVIRAT\n",
    "from cs330_project.models import ViTAutoEncoder\n",
    "from cs330_project.datasets.data_loading import MaskedVideoAutoencoderTransform, TransformDataset, DataLoader\n",
    "from cs330_project.training import train_mae_single_epoch, make_optimizer, make_scheduler\n",
    "from cs330_project.losses import autoencoder_loss\n",
    "\n",
    "device = torch.device('cuda' if torch.cuda.is_available() else 'cpu')"
   ]
  },
  {
   "cell_type": "code",
   "execution_count": 2,
   "metadata": {},
   "outputs": [],
   "source": [
    "img_size = (32, 32)\n",
    "num_frames = 16\n",
    "num_channels = 3\n",
    "patch_size = 4\n",
    "tublet_size = 2\n",
    "sampling_rate = 4"
   ]
  },
  {
   "cell_type": "code",
   "execution_count": 3,
   "metadata": {},
   "outputs": [],
   "source": [
    "# root_dir = r\"D:\\tiny_virat_composite_dataset\"\n",
    "root_dir = r\"C:\\Users\\Windows\\Desktop\\Shahir\\cs330-final-project-2022\\resources\\tiny_virat_processed\"\n",
    "dataset_train_orig = TinyVIRAT(\n",
    "    root_dir=root_dir,\n",
    "    train=True,\n",
    "    new_length=num_frames,\n",
    "    new_step=sampling_rate,\n",
    "    temporal_jitter=False,\n",
    "    verbose=False)"
   ]
  },
  {
   "cell_type": "code",
   "execution_count": 4,
   "metadata": {},
   "outputs": [],
   "source": [
    "model = ViTAutoEncoder(\n",
    "    in_img_size=img_size,\n",
    "    in_channels=num_channels,\n",
    "    patch_size=patch_size,\n",
    "    spatio_temporal=True,\n",
    "    tubelet_size=2,\n",
    "    in_num_frames=num_frames,\n",
    "    encoder_embed_dim=96,\n",
    "    encoder_depth=9,\n",
    "    encoder_num_heads=12,\n",
    "    decoder_embed_dim=48,\n",
    "    decoder_depth=3,\n",
    "    decoder_num_heads=16,\n",
    "    mlp_dim_ratio=2,\n",
    "    head_dim=16,\n",
    "    class_embed=True,\n",
    "    is_spt=True,\n",
    "    is_lsa=False)"
   ]
  },
  {
   "cell_type": "code",
   "execution_count": 5,
   "metadata": {},
   "outputs": [],
   "source": [
    "train_transform = MaskedVideoAutoencoderTransform(\n",
    "    input_size=img_size,\n",
    "    num_patches=model.encoder.num_patches)\n",
    "dataset_train = TransformDataset(\n",
    "    dataset_train_orig,\n",
    "    labeled=True,\n",
    "    transform_func=train_transform)"
   ]
  },
  {
   "cell_type": "code",
   "execution_count": 6,
   "metadata": {},
   "outputs": [],
   "source": [
    "optimizer = make_optimizer(model)\n",
    "scheduler = make_scheduler(optimizer)"
   ]
  },
  {
   "cell_type": "code",
   "execution_count": 7,
   "metadata": {},
   "outputs": [],
   "source": [
    "dataloader_train = DataLoader(\n",
    "    dataset_train,\n",
    "    batch_size=20,\n",
    "    num_workers=20,\n",
    "    pin_memory=True,\n",
    "    prefetch_factor=10)"
   ]
  },
  {
   "cell_type": "code",
   "execution_count": null,
   "metadata": {},
   "outputs": [
    {
     "data": {
      "application/vnd.jupyter.widget-view+json": {
       "model_id": "49296e340ea642388ad256f1f4fb4228",
       "version_major": 2,
       "version_minor": 0
      },
      "text/plain": [
       "  0%|          | 0/384 [00:39<?, ?it/s]"
      ]
     },
     "metadata": {},
     "output_type": "display_data"
    }
   ],
   "source": [
    "train_mae_single_epoch(model, autoencoder_loss, dataloader_train, optimizer, device)"
   ]
  },
  {
   "cell_type": "code",
   "execution_count": null,
   "metadata": {},
   "outputs": [],
   "source": []
  }
 ],
 "metadata": {
  "kernelspec": {
   "display_name": "Python 3 (ipykernel)",
   "language": "python",
   "name": "python3"
  },
  "language_info": {
   "codemirror_mode": {
    "name": "ipython",
    "version": 3
   },
   "file_extension": ".py",
   "mimetype": "text/x-python",
   "name": "python",
   "nbconvert_exporter": "python",
   "pygments_lexer": "ipython3",
   "version": "3.10.8"
  },
  "vscode": {
   "interpreter": {
    "hash": "e83531ffe832af231b72d96521b01eb96431da7f22dd3e704e8115770d7320b0"
   }
  }
 },
 "nbformat": 4,
 "nbformat_minor": 4
}
