{
 "cells": [
  {
   "cell_type": "code",
   "execution_count": 1,
   "metadata": {},
   "outputs": [
    {
     "data": {
      "text/plain": [
       "['c:\\\\Users\\\\Shahir\\\\Documents\\\\Code Repositories\\\\cs330-final-project-2022\\\\scripts',\n",
       " 'C:\\\\Users\\\\Shahir\\\\Documents\\\\Code Repositories\\\\6857-final-project',\n",
       " 'C:\\\\Users\\\\Shahir\\\\Documents\\\\Code Repositories\\\\sdn-umw-app',\n",
       " 'C:\\\\Users\\\\Shahir\\\\Documents\\\\Code Repositories\\\\WiFreshApp',\n",
       " 'c:\\\\Users\\\\Shahir\\\\anaconda3\\\\envs\\\\cs330-final-project\\\\python310.zip',\n",
       " 'c:\\\\Users\\\\Shahir\\\\anaconda3\\\\envs\\\\cs330-final-project\\\\DLLs',\n",
       " 'c:\\\\Users\\\\Shahir\\\\anaconda3\\\\envs\\\\cs330-final-project\\\\lib',\n",
       " 'c:\\\\Users\\\\Shahir\\\\anaconda3\\\\envs\\\\cs330-final-project',\n",
       " '',\n",
       " 'c:\\\\Users\\\\Shahir\\\\anaconda3\\\\envs\\\\cs330-final-project\\\\lib\\\\site-packages',\n",
       " 'c:\\\\Users\\\\Shahir\\\\anaconda3\\\\envs\\\\cs330-final-project\\\\lib\\\\site-packages\\\\win32',\n",
       " 'c:\\\\Users\\\\Shahir\\\\anaconda3\\\\envs\\\\cs330-final-project\\\\lib\\\\site-packages\\\\win32\\\\lib',\n",
       " 'c:\\\\Users\\\\Shahir\\\\anaconda3\\\\envs\\\\cs330-final-project\\\\lib\\\\site-packages\\\\Pythonwin']"
      ]
     },
     "execution_count": 1,
     "metadata": {},
     "output_type": "execute_result"
    }
   ],
   "source": [
    "import sys\n",
    "sys.path"
   ]
  },
  {
   "cell_type": "code",
   "execution_count": 2,
   "metadata": {},
   "outputs": [
    {
     "ename": "ModuleNotFoundError",
     "evalue": "No module named 'cs330_project'",
     "output_type": "error",
     "traceback": [
      "\u001b[1;31m---------------------------------------------------------------------------\u001b[0m",
      "\u001b[1;31mModuleNotFoundError\u001b[0m                       Traceback (most recent call last)",
      "Cell \u001b[1;32mIn [2], line 1\u001b[0m\n\u001b[1;32m----> 1\u001b[0m \u001b[39mimport\u001b[39;00m \u001b[39mcs330_project\u001b[39;00m\n",
      "\u001b[1;31mModuleNotFoundError\u001b[0m: No module named 'cs330_project'"
     ]
    }
   ],
   "source": [
    "import cs330_project"
   ]
  },
  {
   "cell_type": "code",
   "execution_count": null,
   "metadata": {},
   "outputs": [],
   "source": [
    "import numpy as np\n",
    "from sklearn.model_selection import train_test_split\n",
    "\n",
    "from cs330_project.datasets import RawDataset\n",
    "from cs330_project.training import train_one_epoch\n",
    "\n",
    "n, c, h, w = 10, 3, 64, 64\n",
    "x_data = np.random.rand(n, c, h, w)\n",
    "y_data = np.random.randint(0, 10, n)\n",
    "x_train, x_test, y_train, y_test = train_test_split(x_data, y_data, test_size=0.20)\n",
    "dataset_train = RawDataset(x_train, y_train)\n",
    "dataset_test = RawDataset(x_test, y_test)"
   ]
  },
  {
   "cell_type": "code",
   "execution_count": null,
   "metadata": {},
   "outputs": [],
   "source": [
    "from cs330_project.temp2.mae_st.models_mae import mae_vit_base_patch16\n",
    "\n",
    "model = mae_vit_base_patch16()"
   ]
  },
  {
   "cell_type": "code",
   "execution_count": null,
   "metadata": {},
   "outputs": [],
   "source": []
  }
 ],
 "metadata": {
  "kernelspec": {
   "display_name": "Python 3.10.8 ('cs330-final-project')",
   "language": "python",
   "name": "python3"
  },
  "language_info": {
   "codemirror_mode": {
    "name": "ipython",
    "version": 3
   },
   "file_extension": ".py",
   "mimetype": "text/x-python",
   "name": "python",
   "nbconvert_exporter": "python",
   "pygments_lexer": "ipython3",
   "version": "3.10.8"
  },
  "orig_nbformat": 4,
  "vscode": {
   "interpreter": {
    "hash": "e83531ffe832af231b72d96521b01eb96431da7f22dd3e704e8115770d7320b0"
   }
  }
 },
 "nbformat": 4,
 "nbformat_minor": 2
}
