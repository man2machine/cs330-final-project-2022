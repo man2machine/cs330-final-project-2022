{
 "cells": [
  {
   "cell_type": "code",
   "execution_count": 1,
   "metadata": {},
   "outputs": [],
   "source": [
    "import os\n",
    "\n",
    "import torch\n",
    "\n",
    "from cs330_project.datasets.video_data import TinyVIRAT\n",
    "from cs330_project.models import ViTAutoEncoder\n",
    "from cs330_project.datasets.data_loading import MaskedVideoAutoencoderTransform, TransformDataset, DataLoader\n",
    "from cs330_project.training import train_mae_model, make_optimizer, make_scheduler\n",
    "from cs330_project.losses import autoencoder_loss\n",
    "from cs330_project.utils import get_rel_pkg_path\n",
    "\n",
    "device = torch.device('cuda' if torch.cuda.is_available() else 'cpu')"
   ]
  },
  {
   "cell_type": "code",
   "execution_count": 2,
   "metadata": {},
   "outputs": [],
   "source": [
    "img_size = (32, 32)\n",
    "num_frames = 16\n",
    "num_channels = 3\n",
    "patch_size = 8\n",
    "tubelet_size = 4\n",
    "sampling_rate = 4"
   ]
  },
  {
   "cell_type": "code",
   "execution_count": 3,
   "metadata": {},
   "outputs": [],
   "source": [
    "# root_dir = r\"D:\\tiny_virat_composite_dataset\"\n",
    "root_dir = r\"C:\\Users\\Windows\\Desktop\\Shahir\\cs330-final-project-2022\\resources\\tiny_virat_processed\"\n",
    "dataset_train_orig = TinyVIRAT(\n",
    "    root_dir=root_dir,\n",
    "    train=True,\n",
    "    new_length=num_frames,\n",
    "    new_step=sampling_rate,\n",
    "    temporal_jitter=False,\n",
    "    verbose=False)"
   ]
  },
  {
   "cell_type": "code",
   "execution_count": 4,
   "metadata": {},
   "outputs": [],
   "source": [
    "model = ViTAutoEncoder(\n",
    "    in_img_size=img_size,\n",
    "    in_channels=num_channels,\n",
    "    patch_size=patch_size,\n",
    "    spatio_temporal=True,\n",
    "    tubelet_size=tubelet_size,\n",
    "    in_num_frames=num_frames,\n",
    "    encoder_embed_dim=96,\n",
    "    encoder_depth=6,\n",
    "    encoder_num_heads=8,\n",
    "    decoder_embed_dim=48,\n",
    "    decoder_depth=3,\n",
    "    decoder_num_heads=8,\n",
    "    mlp_dim_ratio=2,\n",
    "    head_dim=16,\n",
    "    class_embed=True,\n",
    "    is_spt=True,\n",
    "    is_lsa=False)"
   ]
  },
  {
   "cell_type": "code",
   "execution_count": 5,
   "metadata": {},
   "outputs": [],
   "source": [
    "train_transform = MaskedVideoAutoencoderTransform(\n",
    "    input_size=img_size,\n",
    "    num_patches=model.encoder.num_patches)\n",
    "dataset_train = TransformDataset(\n",
    "    dataset_train_orig,\n",
    "    labeled=True,\n",
    "    transform_func=train_transform)"
   ]
  },
  {
   "cell_type": "code",
   "execution_count": 6,
   "metadata": {},
   "outputs": [],
   "source": [
    "optimizer = make_optimizer(model)\n",
    "scheduler = make_scheduler(optimizer)"
   ]
  },
  {
   "cell_type": "code",
   "execution_count": 7,
   "metadata": {},
   "outputs": [],
   "source": [
    "dataloader_train = DataLoader(\n",
    "    dataset_train,\n",
    "    batch_size=20,\n",
    "    num_workers=20,\n",
    "    pin_memory=True,\n",
    "    prefetch_factor=10,\n",
    "    persistent_workers=True)"
   ]
  },
  {
   "cell_type": "code",
   "execution_count": 8,
   "metadata": {},
   "outputs": [],
   "source": [
    "save_dir = get_rel_pkg_path(\"weights/\")"
   ]
  },
  {
   "cell_type": "code",
   "execution_count": 9,
   "metadata": {},
   "outputs": [
    {
     "name": "stdout",
     "output_type": "stream",
     "text": [
      "----------\n",
      "Epoch 1/10\n",
      "----------\n",
      "Training\n"
     ]
    },
    {
     "data": {
      "application/vnd.jupyter.widget-view+json": {
       "model_id": "acc49b9d1516481bb714c001bc30ac45",
       "version_major": 2,
       "version_minor": 0
      },
      "text/plain": [
       "  0%|          | 0/384 [00:40<?, ?it/s]"
      ]
     },
     "metadata": {},
     "output_type": "display_data"
    },
    {
     "name": "stdout",
     "output_type": "stream",
     "text": [
      "Training Loss: 0.3319\n",
      "\n",
      "----------\n",
      "Epoch 2/10\n",
      "----------\n",
      "Training\n"
     ]
    },
    {
     "data": {
      "application/vnd.jupyter.widget-view+json": {
       "model_id": "acdca6accf8a4cd5815c2425dcbe3cd1",
       "version_major": 2,
       "version_minor": 0
      },
      "text/plain": [
       "  0%|          | 0/384 [00:00<?, ?it/s]"
      ]
     },
     "metadata": {},
     "output_type": "display_data"
    },
    {
     "name": "stdout",
     "output_type": "stream",
     "text": [
      "Training Loss: 0.1924\n",
      "\n",
      "----------\n",
      "Epoch 3/10\n",
      "----------\n",
      "Training\n"
     ]
    },
    {
     "data": {
      "application/vnd.jupyter.widget-view+json": {
       "model_id": "7885c94615d741ee830c8a8cfcc49f68",
       "version_major": 2,
       "version_minor": 0
      },
      "text/plain": [
       "  0%|          | 0/384 [00:00<?, ?it/s]"
      ]
     },
     "metadata": {},
     "output_type": "display_data"
    },
    {
     "name": "stdout",
     "output_type": "stream",
     "text": [
      "Training Loss: 0.1518\n",
      "\n",
      "----------\n",
      "Epoch 4/10\n",
      "----------\n",
      "Training\n"
     ]
    },
    {
     "data": {
      "application/vnd.jupyter.widget-view+json": {
       "model_id": "ae6ba29cc14843279590f59f6afbddd3",
       "version_major": 2,
       "version_minor": 0
      },
      "text/plain": [
       "  0%|          | 0/384 [00:00<?, ?it/s]"
      ]
     },
     "metadata": {},
     "output_type": "display_data"
    },
    {
     "name": "stdout",
     "output_type": "stream",
     "text": [
      "Training Loss: 0.1366\n",
      "\n",
      "----------\n",
      "Epoch 5/10\n",
      "----------\n",
      "Training\n"
     ]
    },
    {
     "data": {
      "application/vnd.jupyter.widget-view+json": {
       "model_id": "1a2279c19c654ca3831252fcbfdfc05a",
       "version_major": 2,
       "version_minor": 0
      },
      "text/plain": [
       "  0%|          | 0/384 [00:00<?, ?it/s]"
      ]
     },
     "metadata": {},
     "output_type": "display_data"
    },
    {
     "name": "stdout",
     "output_type": "stream",
     "text": [
      "Training Loss: 0.1199\n",
      "\n",
      "----------\n",
      "Epoch 6/10\n",
      "----------\n",
      "Training\n"
     ]
    },
    {
     "data": {
      "application/vnd.jupyter.widget-view+json": {
       "model_id": "b3f6d5b6a11741cba8cd01dcb15e121c",
       "version_major": 2,
       "version_minor": 0
      },
      "text/plain": [
       "  0%|          | 0/384 [00:00<?, ?it/s]"
      ]
     },
     "metadata": {},
     "output_type": "display_data"
    },
    {
     "name": "stdout",
     "output_type": "stream",
     "text": [
      "Training Loss: 0.1105\n",
      "\n",
      "----------\n",
      "Epoch 7/10\n",
      "----------\n",
      "Training\n"
     ]
    },
    {
     "data": {
      "application/vnd.jupyter.widget-view+json": {
       "model_id": "e78ba77fe3074c81bd29b2d8d733781d",
       "version_major": 2,
       "version_minor": 0
      },
      "text/plain": [
       "  0%|          | 0/384 [00:00<?, ?it/s]"
      ]
     },
     "metadata": {},
     "output_type": "display_data"
    },
    {
     "name": "stdout",
     "output_type": "stream",
     "text": [
      "Training Loss: 0.1025\n",
      "\n",
      "----------\n",
      "Epoch 8/10\n",
      "----------\n",
      "Training\n"
     ]
    },
    {
     "data": {
      "application/vnd.jupyter.widget-view+json": {
       "model_id": "6a5c5d4a8c5b4c1da5c28a3cf433f718",
       "version_major": 2,
       "version_minor": 0
      },
      "text/plain": [
       "  0%|          | 0/384 [00:00<?, ?it/s]"
      ]
     },
     "metadata": {},
     "output_type": "display_data"
    },
    {
     "name": "stdout",
     "output_type": "stream",
     "text": [
      "Training Loss: 0.0949\n",
      "\n",
      "----------\n",
      "Epoch 9/10\n",
      "----------\n",
      "Training\n"
     ]
    },
    {
     "data": {
      "application/vnd.jupyter.widget-view+json": {
       "model_id": "f825737fa4c24f70aaa97acacfd0ed2b",
       "version_major": 2,
       "version_minor": 0
      },
      "text/plain": [
       "  0%|          | 0/384 [00:00<?, ?it/s]"
      ]
     },
     "metadata": {},
     "output_type": "display_data"
    },
    {
     "name": "stdout",
     "output_type": "stream",
     "text": [
      "Training Loss: 0.0900\n",
      "\n",
      "----------\n",
      "Epoch 10/10\n",
      "----------\n",
      "Training\n"
     ]
    },
    {
     "data": {
      "application/vnd.jupyter.widget-view+json": {
       "model_id": "bbfc4834242d44ecb751a8009ced4bdc",
       "version_major": 2,
       "version_minor": 0
      },
      "text/plain": [
       "  0%|          | 0/384 [00:00<?, ?it/s]"
      ]
     },
     "metadata": {},
     "output_type": "display_data"
    },
    {
     "name": "stdout",
     "output_type": "stream",
     "text": [
      "Training Loss: 0.0859\n",
      "\n",
      "Training complete in 12m 52s\n"
     ]
    }
   ],
   "source": [
    "tracker = train_mae_model(\n",
    "    device,\n",
    "    model,\n",
    "    dataloader_train,\n",
    "    autoencoder_loss,\n",
    "    optimizer,\n",
    "    save_dir,\n",
    "    num_epochs=10,\n",
    "    save_model=True,\n",
    "    save_latest=True,\n",
    "    save_log=True)"
   ]
  },
  {
   "cell_type": "code",
   "execution_count": 14,
   "metadata": {},
   "outputs": [
    {
     "data": {
      "text/plain": [
       "'C:\\\\Users\\\\Windows\\\\Desktop\\\\Shahir\\\\cs330-final-project-2022\\\\weights\\\\Experiment 12-13-2022 01-18-22 AM'"
      ]
     },
     "execution_count": 14,
     "metadata": {},
     "output_type": "execute_result"
    }
   ],
   "source": [
    "tracker.save_dir"
   ]
  },
  {
   "cell_type": "code",
   "execution_count": null,
   "metadata": {},
   "outputs": [],
   "source": []
  }
 ],
 "metadata": {
  "kernelspec": {
   "display_name": "Python 3 (ipykernel)",
   "language": "python",
   "name": "python3"
  },
  "language_info": {
   "codemirror_mode": {
    "name": "ipython",
    "version": 3
   },
   "file_extension": ".py",
   "mimetype": "text/x-python",
   "name": "python",
   "nbconvert_exporter": "python",
   "pygments_lexer": "ipython3",
   "version": "3.10.8"
  },
  "vscode": {
   "interpreter": {
    "hash": "e83531ffe832af231b72d96521b01eb96431da7f22dd3e704e8115770d7320b0"
   }
  }
 },
 "nbformat": 4,
 "nbformat_minor": 4
}
